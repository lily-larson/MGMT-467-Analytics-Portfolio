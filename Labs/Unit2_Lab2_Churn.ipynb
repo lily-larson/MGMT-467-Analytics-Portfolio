{
  "cells": [
    {
      "cell_type": "markdown",
      "metadata": {
        "id": "view-in-github",
        "colab_type": "text"
      },
      "source": [
        "<a href=\"https://colab.research.google.com/github/lily-larson/MGMT-467-Analytics-Portfolio/blob/main/Labs/Unit2_Lab2_Churn.ipynb\" target=\"_parent\"><img src=\"https://colab.research.google.com/assets/colab-badge.svg\" alt=\"Open In Colab\"/></a>"
      ]
    },
    {
      "cell_type": "markdown",
      "id": "40d6f791",
      "metadata": {
        "id": "40d6f791"
      },
      "source": [
        "\n",
        "# 🤖 MGMT 467 - Unit 2 Lab 2: Prompt Studio for AI-Assisted SQL + ML\n",
        "\n",
        "**Date:** 2025-10-16  \n",
        "**Objective:** Build and refine a complete ML pipeline for churn prediction using BigQuery — but with **Gemini-style prompts** guiding SQL generation.\n",
        "\n",
        "You'll learn to:\n",
        "- Frame SQL goals as clear prompts\n",
        "- Generate, test, and debug queries with an AI assistant\n",
        "- Reflect on each modeling step and your prompt design\n"
      ]
    },
    {
      "cell_type": "code",
      "execution_count": null,
      "metadata": {
        "id": "305da483"
      },
      "outputs": [],
      "source": [
        "# ✅ Authenticate and set up GCP project\n",
        "from google.colab import auth\n",
        "auth.authenticate_user()\n",
        "\n",
        "project_id = \"directed-bongo-471119-d1\"  # <-- Replace with your actual project ID\n",
        "!gcloud config set project $project_id"
      ],
      "id": "305da483"
    },
    {
      "cell_type": "markdown",
      "id": "d46ebf07",
      "metadata": {
        "id": "d46ebf07"
      },
      "source": [
        "\n",
        "## Task 0: Connect to BigQuery\n",
        "\n",
        "**🎯 Goal:** Verify BigQuery access from Colab.  \n",
        "**📌 Requirements:** Use `%%bigquery`, get current date and user session.\n",
        "\n",
        "---\n",
        "\n",
        "### 🧠 Prompt Template  \n",
        "> Write a SQL query that returns CURRENT_DATE() and SESSION_USER(). I will run it with %%bigquery in Colab.\n",
        "\n",
        "---\n",
        "\n",
        "### 👩‍🏫 Example Prompt  \n",
        "> Write a SQL query using BigQuery syntax that returns today’s date and the current session user.\n",
        "\n",
        "---\n",
        "\n",
        "### ✅ Expected SQL Output\n",
        "```sql\n",
        "SELECT CURRENT_DATE() AS today, SESSION_USER() AS user;\n",
        "```\n",
        "\n",
        "---\n",
        "\n",
        "### 🔍 Checkpoint  \n",
        "Query should return a single row with today's date and your user.\n"
      ]
    },
    {
      "cell_type": "code",
      "source": [
        "%%bigquery --project directed-bongo-471119-d1\n",
        "SELECT CURRENT_DATE() AS today, SESSION_USER() AS user;"
      ],
      "metadata": {
        "id": "zkjeotjkz-oO"
      },
      "id": "zkjeotjkz-oO",
      "execution_count": null,
      "outputs": []
    },
    {
      "cell_type": "markdown",
      "id": "4804b5b0",
      "metadata": {
        "id": "4804b5b0"
      },
      "source": [
        "\n",
        "## Task 1: Prepare ML Table\n",
        "\n",
        "**🎯 Goal:** Create a clean features table for modeling churn.  \n",
        "**📌 Requirements:** Use cleaned_features as source, select relevant columns, filter rows with churn_label IS NOT NULL.\n",
        "\n",
        "---\n",
        "\n",
        "### 🧠 Prompt Template  \n",
        "> Write a query that creates a new table with columns: [region, plan_tier, age_band, ...] and churn_label from [source_table]. Filter to rows where churn_label IS NOT NULL.\n",
        "\n",
        "---\n",
        "\n",
        "### 👩‍🏫 Example Prompt  \n",
        "> Create a BigQuery table named churn_features from cleaned_features with selected features and where churn_label IS NOT NULL.\n",
        "\n",
        "---\n",
        "\n",
        "### ✅ Expected SQL Output\n",
        "```sql\n",
        "CREATE OR REPLACE TABLE `your_dataset.churn_features` AS\n",
        "SELECT region, plan_tier, age_band, avg_rating, total_minutes, churn_label\n",
        "FROM `your_dataset.cleaned_features`\n",
        "WHERE churn_label IS NOT NULL;\n",
        "```\n",
        "\n",
        "---\n",
        "\n",
        "### 🔍 Checkpoint  \n",
        "Table should appear in BigQuery and contain non-null labels.\n"
      ]
    },
    {
      "cell_type": "code",
      "metadata": {
        "id": "8bc19167"
      },
      "source": [
        "%%bigquery --project directed-bongo-471119-d1\n",
        "SELECT\n",
        "    user_id,\n",
        "    country,\n",
        "    subscription_plan,\n",
        "    age,\n",
        "    churn_next_month\n",
        "FROM\n",
        "    `directed-bongo-471119-d1.netflix.feat_churn_lite`\n",
        "WHERE\n",
        "    churn_next_month IS NOT NULL"
      ],
      "id": "8bc19167",
      "execution_count": null,
      "outputs": []
    },
    {
      "cell_type": "code",
      "metadata": {
        "id": "2fe82e91"
      },
      "source": [
        "%%bigquery --project directed-bongo-471119-d1\n",
        "SELECT\n",
        "    user_id,\n",
        "    AVG(rating) AS avg_rating\n",
        "FROM\n",
        "    `directed-bongo-471119-d1.netflix.reviews`\n",
        "GROUP BY\n",
        "    user_id"
      ],
      "id": "2fe82e91",
      "execution_count": null,
      "outputs": []
    },
    {
      "cell_type": "code",
      "metadata": {
        "id": "c6abdc45"
      },
      "source": [
        "%%bigquery --project directed-bongo-471119-d1\n",
        "SELECT\n",
        "    user_id,\n",
        "    SUM(watch_duration_minutes) AS total_minutes,\n",
        "    AVG(progress_percentage) AS avg_progress\n",
        "FROM\n",
        "    `directed-bongo-471119-d1.netflix.watch_history`\n",
        "GROUP BY\n",
        "    user_id"
      ],
      "id": "c6abdc45",
      "execution_count": null,
      "outputs": []
    },
    {
      "cell_type": "code",
      "metadata": {
        "id": "488d3c64"
      },
      "source": [
        "%%bigquery --project directed-bongo-471119-d1\n",
        "SELECT\n",
        "    user_id,\n",
        "    COUNT(DISTINCT session_id) AS num_sessions\n",
        "FROM\n",
        "    `directed-bongo-471119-d1.netflix.watch_history`\n",
        "GROUP BY\n",
        "    user_id"
      ],
      "id": "488d3c64",
      "execution_count": null,
      "outputs": []
    },
    {
      "cell_type": "code",
      "metadata": {
        "id": "4a807446"
      },
      "source": [
        "%%bigquery --project directed-bongo-471119-d1\n",
        "CREATE OR REPLACE TABLE `directed-bongo-471119-d1.netflix.churn_features` AS\n",
        "SELECT\n",
        "    t1.user_id,\n",
        "    t1.country,\n",
        "    t1.subscription_plan,\n",
        "    t1.age,\n",
        "    t1.churn_next_month,\n",
        "    t2.avg_rating,\n",
        "    t3.total_minutes,\n",
        "    t3.avg_progress,\n",
        "    t4.num_sessions\n",
        "FROM\n",
        "    `directed-bongo-471119-d1.netflix.feat_churn_lite` AS t1\n",
        "LEFT JOIN\n",
        "    (SELECT user_id, AVG(rating) AS avg_rating FROM `directed-bongo-471119-d1.netflix.reviews` GROUP BY user_id) AS t2\n",
        "ON\n",
        "    t1.user_id = t2.user_id\n",
        "LEFT JOIN\n",
        "    (SELECT user_id, SUM(watch_duration_minutes) AS total_minutes, AVG(progress_percentage) AS avg_progress FROM `directed-bongo-471119-d1.netflix.watch_history` GROUP BY user_id) AS t3\n",
        "ON\n",
        "    t1.user_id = t3.user_id\n",
        "LEFT JOIN\n",
        "    (SELECT user_id, COUNT(DISTINCT session_id) AS num_sessions FROM `directed-bongo-471119-d1.netflix.watch_history` GROUP BY user_id) AS t4\n",
        "ON\n",
        "    t1.user_id = t4.user_id\n",
        "WHERE\n",
        "    t1.churn_next_month IS NOT NULL"
      ],
      "id": "4a807446",
      "execution_count": null,
      "outputs": []
    },
    {
      "cell_type": "code",
      "source": [],
      "metadata": {
        "id": "xoP9CnsyB1QE"
      },
      "id": "xoP9CnsyB1QE",
      "execution_count": null,
      "outputs": []
    },
    {
      "cell_type": "markdown",
      "id": "178327da",
      "metadata": {
        "id": "178327da"
      },
      "source": [
        "\n",
        "## Task 2: Train Logistic Regression Model\n",
        "\n",
        "**🎯 Goal:** Train a basic BQML logistic regression model.  \n",
        "**📌 Requirements:** Use churn_features table, predict churn_label from features.\n",
        "\n",
        "---\n",
        "\n",
        "### 🧠 Prompt Template  \n",
        "> Write a CREATE MODEL SQL for logistic regression using churn_label as label and [features] as inputs.\n",
        "\n",
        "---\n",
        "\n",
        "### 👩‍🏫 Example Prompt  \n",
        "> Train a logistic regression model to predict churn_label using region, plan_tier, total_minutes, avg_rating.\n",
        "\n",
        "---\n",
        "\n",
        "### ✅ Expected SQL Output\n",
        "```sql\n",
        "CREATE OR REPLACE MODEL `your_dataset.churn_model`\n",
        "OPTIONS(model_type='logistic_reg') AS\n",
        "SELECT region, plan_tier, total_minutes, avg_rating, churn_label\n",
        "FROM `your_dataset.churn_features`;\n",
        "```\n",
        "\n",
        "---\n",
        "\n",
        "### 🔍 Checkpoint  \n",
        "Model appears in BigQuery under Models. Training completes.\n"
      ]
    },
    {
      "cell_type": "code",
      "source": [
        "%%bigquery --project directed-bongo-471119-d1\n",
        "CREATE OR REPLACE MODEL `directed-bongo-471119-d1.netflix.churn_model`\n",
        "OPTIONS(model_type='logistic_reg', input_label_cols=['churn_next_month']) AS\n",
        "SELECT\n",
        "    churn_next_month,\n",
        "    country,\n",
        "    subscription_plan,\n",
        "    age,\n",
        "    avg_rating,\n",
        "    total_minutes,\n",
        "    avg_progress,\n",
        "    num_sessions\n",
        "FROM\n",
        "    `directed-bongo-471119-d1.netflix.churn_features`;"
      ],
      "metadata": {
        "id": "XUsrm01eAK9Q"
      },
      "id": "XUsrm01eAK9Q",
      "execution_count": null,
      "outputs": []
    },
    {
      "cell_type": "markdown",
      "id": "e12488fb",
      "metadata": {
        "id": "e12488fb"
      },
      "source": [
        "\n",
        "## Task 3: Evaluate Model\n",
        "\n",
        "**🎯 Goal:** Evaluate the logistic regression model.  \n",
        "**📌 Requirements:** Use ML.EVALUATE.\n",
        "\n",
        "---\n",
        "\n",
        "### 🧠 Prompt Template  \n",
        "> Write a query to evaluate my logistic regression model using ML.EVALUATE.\n",
        "\n",
        "---\n",
        "\n",
        "### 👩‍🏫 Example Prompt  \n",
        "> Evaluate the churn_model using ML.EVALUATE to get accuracy, precision, recall.\n",
        "\n",
        "---\n",
        "\n",
        "### ✅ Expected SQL Output\n",
        "```sql\n",
        "SELECT * FROM ML.EVALUATE(MODEL `your_dataset.churn_model`);\n",
        "```\n",
        "\n",
        "---\n",
        "\n",
        "### 🔍 Checkpoint  \n",
        "View performance metrics: accuracy, log_loss, precision, recall.\n"
      ]
    },
    {
      "cell_type": "code",
      "source": [
        "%%bigquery --project directed-bongo-471119-d1\n",
        "SELECT * FROM ML.EVALUATE(MODEL `directed-bongo-471119-d1.netflix.churn_model`);"
      ],
      "metadata": {
        "id": "vga2JlnGCalK"
      },
      "id": "vga2JlnGCalK",
      "execution_count": null,
      "outputs": []
    },
    {
      "cell_type": "markdown",
      "id": "4dde2b93",
      "metadata": {
        "id": "4dde2b93"
      },
      "source": [
        "\n",
        "## Task 4: Predict Churn\n",
        "\n",
        "**🎯 Goal:** Use ML.PREDICT to generate churn predictions.  \n",
        "**📌 Requirements:** Apply model to same input table.\n",
        "\n",
        "---\n",
        "\n",
        "### 🧠 Prompt Template  \n",
        "> Generate SQL to use ML.PREDICT on churn_model and return predictions by user_id.\n",
        "\n",
        "---\n",
        "\n",
        "### 👩‍🏫 Example Prompt  \n",
        "> Predict churn using churn_model. Include user_id, predicted_churn_label, and prediction probability.\n",
        "\n",
        "---\n",
        "\n",
        "### ✅ Expected SQL Output\n",
        "```sql\n",
        "SELECT user_id, predicted_churn_label, predicted_churn_label_probs\n",
        "FROM ML.PREDICT(MODEL `your_dataset.churn_model`,\n",
        "      (SELECT * FROM `your_dataset.churn_features`));\n",
        "```\n",
        "\n",
        "---\n",
        "\n",
        "### 🔍 Checkpoint  \n",
        "Inspect top churn risk users. Validate probabilities.\n"
      ]
    },
    {
      "cell_type": "code",
      "source": [
        "%%bigquery --project directed-bongo-471119-d1\n",
        "SELECT\n",
        "    user_id,\n",
        "    predicted_churn_next_month,\n",
        "    predicted_churn_next_month_probs[OFFSET(0)].prob AS churn_probability\n",
        "FROM\n",
        "    ML.PREDICT(MODEL `directed-bongo-471119-d1.netflix.churn_model`,\n",
        "      (SELECT * FROM `directed-bongo-471119-d1.netflix.churn_features`));"
      ],
      "metadata": {
        "id": "Rvgz17Koqa3_"
      },
      "id": "Rvgz17Koqa3_",
      "execution_count": null,
      "outputs": []
    },
    {
      "cell_type": "markdown",
      "metadata": {
        "id": "866fc343"
      },
      "source": [
        "\n",
        "## Task 5.0: Bucket a Continuous Feature\n",
        "\n",
        "**🎯 Goal:** Group 'total_minutes' into categories: low, medium, high.  \n",
        "**📌 Requirements:** Use CASE WHEN or IF statements to create 'watch_time_bucket'.\n",
        "\n",
        "---\n",
        "\n",
        "### 🧠 Prompt Template  \n",
        "> Write SQL that creates a new column watch_time_bucket based on total_minutes thresholds (<100, 100–300, >300).\n",
        "\n",
        "---\n",
        "\n",
        "### 👩‍🏫 Example Prompt  \n",
        "> Create a new column watch_time_bucket with values 'low', 'medium', or 'high' based on total_minutes.\n",
        "\n",
        "---\n",
        "\n",
        "### 🔍 Exploration  \n",
        "How does churn rate vary across these buckets?\n"
      ],
      "id": "866fc343"
    },
    {
      "cell_type": "code",
      "source": [
        "%%bigquery --project directed-bongo-471119-d1\n",
        "SELECT\n",
        "    user_id,\n",
        "    total_minutes,\n",
        "    CASE\n",
        "        WHEN total_minutes < 100 THEN 'low'\n",
        "        WHEN total_minutes >= 100 AND total_minutes <= 300 THEN 'medium'\n",
        "        WHEN total_minutes > 300 THEN 'high'\n",
        "        ELSE 'unknown' # Handle potential NULLs or other cases\n",
        "    END AS watch_time_bucket\n",
        "FROM\n",
        "    `directed-bongo-471119-d1.netflix.churn_features`\n",
        "LIMIT 10; -- Adding a limit for a quick preview"
      ],
      "metadata": {
        "id": "_oEFj2zEO-cc"
      },
      "id": "_oEFj2zEO-cc",
      "execution_count": null,
      "outputs": []
    },
    {
      "cell_type": "code",
      "source": [
        "%%bigquery --project directed-bongo-471119-d1\n",
        "SELECT\n",
        "    CASE\n",
        "        WHEN t1.total_minutes < 100 THEN 'low'\n",
        "        WHEN t1.total_minutes >= 100 AND t1.total_minutes <= 300 THEN 'medium'\n",
        "        WHEN t1.total_minutes > 300 THEN 'high'\n",
        "        ELSE 'unknown'\n",
        "    END AS watch_time_bucket,\n",
        "    AVG(t2.churn_probability) AS average_churn_probability\n",
        "FROM\n",
        "    `directed-bongo-471119-d1.netflix.churn_features` AS t1\n",
        "JOIN\n",
        "    (SELECT\n",
        "        user_id,\n",
        "        predicted_churn_next_month_probs[OFFSET(0)].prob AS churn_probability\n",
        "    FROM\n",
        "        ML.PREDICT(MODEL `directed-bongo-471119-d1.netflix.churn_model`,\n",
        "              (SELECT * FROM `directed-bongo-471119-d1.netflix.churn_features`))) AS t2\n",
        "ON\n",
        "    t1.user_id = t2.user_id\n",
        "GROUP BY\n",
        "    watch_time_bucket\n",
        "ORDER BY\n",
        "    average_churn_probability DESC;"
      ],
      "metadata": {
        "id": "xZCwWDiuSwK0"
      },
      "id": "xZCwWDiuSwK0",
      "execution_count": null,
      "outputs": []
    },
    {
      "cell_type": "markdown",
      "metadata": {
        "id": "c7295de2"
      },
      "source": [
        "\n",
        "## Task 5.1: Create a Binary Flag Feature\n",
        "\n",
        "**🎯 Goal:** Add a binary column flag_binge (1 if total_minutes > 500).  \n",
        "**📌 Requirements:** Use IF logic to create a binary column in SQL.\n",
        "\n",
        "---\n",
        "\n",
        "### 🧠 Prompt Template  \n",
        "> Write a SQL query that adds flag_binge = 1 if total_minutes > 500, else 0.\n",
        "\n",
        "---\n",
        "\n",
        "### 👩‍🏫 Example Prompt  \n",
        "> Add a binary column flag_binge to identify binge-watchers.\n",
        "\n",
        "---\n",
        "\n",
        "### 🔍 Exploration  \n",
        "Are binge-watchers more or less likely to churn?\n"
      ],
      "id": "c7295de2"
    },
    {
      "cell_type": "code",
      "source": [
        "%%bigquery --project directed-bongo-471119-d1\n",
        "SELECT\n",
        "    user_id,\n",
        "    total_minutes,\n",
        "    CASE\n",
        "        WHEN total_minutes > 500 THEN 1\n",
        "        ELSE 0\n",
        "    END AS flag_binge\n",
        "FROM\n",
        "    `directed-bongo-471119-d1.netflix.churn_features`\n",
        "LIMIT 10; -- Adding a limit for a quick preview"
      ],
      "metadata": {
        "id": "3gAmydscTI6Q"
      },
      "id": "3gAmydscTI6Q",
      "execution_count": null,
      "outputs": []
    },
    {
      "cell_type": "code",
      "source": [
        "%%bigquery --project directed-bongo-471119-d1\n",
        "SELECT\n",
        "    AVG(t2.churn_probability) AS average_churn_probability\n",
        "FROM\n",
        "    `directed-bongo-471119-d1.netflix.churn_features` AS t1\n",
        "JOIN\n",
        "    (SELECT\n",
        "        user_id,\n",
        "        predicted_churn_next_month_probs[OFFSET(0)].prob AS churn_probability\n",
        "    FROM\n",
        "        ML.PREDICT(MODEL `directed-bongo-471119-d1.netflix.churn_model`,\n",
        "              (SELECT * FROM `directed-bongo-471119-d1.netflix.churn_features`))) AS t2\n",
        "ON\n",
        "    t1.user_id = t2.user_id\n",
        "WHERE\n",
        "    CASE WHEN t1.total_minutes > 500 THEN 1 ELSE 0 END = 1;"
      ],
      "metadata": {
        "id": "oDP6RuROTtzx"
      },
      "id": "oDP6RuROTtzx",
      "execution_count": null,
      "outputs": []
    },
    {
      "cell_type": "markdown",
      "metadata": {
        "id": "d97be921"
      },
      "source": [
        "\n",
        "## Task 5.2: Create an Interaction Term\n",
        "\n",
        "**🎯 Goal:** Create plan_region_combo by combining plan_tier and region.  \n",
        "**📌 Requirements:** Use CONCAT or STRING functions.\n",
        "\n",
        "---\n",
        "\n",
        "### 🧠 Prompt Template  \n",
        "> Generate SQL to create a new column by combining plan_tier and region with an underscore.\n",
        "\n",
        "---\n",
        "\n",
        "### 👩‍🏫 Example Prompt  \n",
        "> Create a column called plan_region_combo as CONCAT(plan_tier, '_', region).\n",
        "\n",
        "---\n",
        "\n",
        "### 🔍 Exploration  \n",
        "Which plan-region combos have highest churn?\n"
      ],
      "id": "d97be921"
    },
    {
      "cell_type": "code",
      "source": [
        "%%bigquery --project directed-bongo-471119-d1\n",
        "SELECT\n",
        "    user_id,\n",
        "    subscription_plan,\n",
        "    country,\n",
        "    CONCAT(subscription_plan, '_', country) AS sub_region_combo\n",
        "FROM\n",
        "    `directed-bongo-471119-d1.netflix.churn_features`\n",
        "LIMIT 10; -- Adding a limit for a quick preview"
      ],
      "metadata": {
        "id": "enK9kfbWT9I8"
      },
      "id": "enK9kfbWT9I8",
      "execution_count": null,
      "outputs": []
    },
    {
      "cell_type": "code",
      "source": [
        "%%bigquery --project directed-bongo-471119-d1\n",
        "SELECT\n",
        "    CONCAT(t1.subscription_plan, '_', t1.country) AS sub_region_combo,\n",
        "    AVG(t2.churn_probability) AS average_churn_probability\n",
        "FROM\n",
        "    `directed-bongo-471119-d1.netflix.churn_features` AS t1\n",
        "JOIN\n",
        "    (SELECT\n",
        "        user_id,\n",
        "        predicted_churn_next_month_probs[OFFSET(0)].prob AS churn_probability\n",
        "    FROM\n",
        "        ML.PREDICT(MODEL `directed-bongo-471119-d1.netflix.churn_model`,\n",
        "              (SELECT * FROM `directed-bongo-471119-d1.netflix.churn_features`))) AS t2\n",
        "ON\n",
        "    t1.user_id = t2.user_id\n",
        "GROUP BY\n",
        "    sub_region_combo\n",
        "ORDER BY\n",
        "    average_churn_probability DESC\n",
        "LIMIT 10; -- Limit to the top combination"
      ],
      "metadata": {
        "id": "S4cq2_nYdUAw"
      },
      "id": "S4cq2_nYdUAw",
      "execution_count": null,
      "outputs": []
    },
    {
      "cell_type": "markdown",
      "metadata": {
        "id": "0aa1e6cf"
      },
      "source": [
        "\n",
        "## Task 5.3: Add Missingness Indicator Flags\n",
        "\n",
        "**🎯 Goal:** Add binary flags to capture NULL values in age_band and avg_rating.  \n",
        "**📌 Requirements:** Use IS NULL logic to create new flag columns.\n",
        "\n",
        "---\n",
        "\n",
        "### 🧠 Prompt Template  \n",
        "> Create a new column is_missing_[col_name] that is 1 when column is NULL, else 0.\n",
        "\n",
        "---\n",
        "\n",
        "### 👩‍🏫 Example Prompt  \n",
        "> Add is_missing_age that flags rows where age_band IS NULL.\n",
        "\n",
        "---\n",
        "\n",
        "### 🔍 Exploration  \n",
        "Do missing values correlate with churn?\n"
      ],
      "id": "0aa1e6cf"
    },
    {
      "cell_type": "code",
      "source": [
        "%%bigquery --project directed-bongo-471119-d1\n",
        "SELECT\n",
        "    user_id,\n",
        "    age,\n",
        "    CASE\n",
        "        WHEN age IS NULL THEN 1\n",
        "        ELSE 0\n",
        "    END AS is_missing_age\n",
        "FROM\n",
        "    `directed-bongo-471119-d1.netflix.churn_features`\n",
        "LIMIT 10; -- Adding a limit for a quick preview"
      ],
      "metadata": {
        "id": "V-FV4sLad3JI"
      },
      "id": "V-FV4sLad3JI",
      "execution_count": null,
      "outputs": []
    },
    {
      "cell_type": "code",
      "source": [
        "%%bigquery --project directed-bongo-471119-d1\n",
        "SELECT\n",
        "    CASE\n",
        "        WHEN t1.age IS NULL THEN 1\n",
        "        ELSE 0\n",
        "    END AS is_missing_age,\n",
        "    AVG(t2.churn_probability) AS average_churn_probability\n",
        "FROM\n",
        "    `directed-bongo-471119-d1.netflix.churn_features` AS t1\n",
        "JOIN\n",
        "    (SELECT\n",
        "        user_id,\n",
        "        predicted_churn_next_month_probs[OFFSET(0)].prob AS churn_probability\n",
        "    FROM\n",
        "        ML.PREDICT(MODEL `directed-bongo-471119-d1.netflix.churn_model`,\n",
        "              (SELECT * FROM `directed-bongo-471119-d1.netflix.churn_features`))) AS t2\n",
        "ON\n",
        "    t1.user_id = t2.user_id\n",
        "GROUP BY\n",
        "    is_missing_age;"
      ],
      "metadata": {
        "id": "o4hkWfVQevCH"
      },
      "id": "o4hkWfVQevCH",
      "execution_count": null,
      "outputs": []
    },
    {
      "cell_type": "markdown",
      "metadata": {
        "id": "525c91b3"
      },
      "source": [
        "\n",
        "## Task 5.4: Create Time-Based Features (Optional)\n",
        "\n",
        "**🎯 Goal:** Add a column days_since_last_login.  \n",
        "**📌 Requirements:** Use DATE_DIFF with CURRENT_DATE and last_login_date.\n",
        "\n",
        "---\n",
        "\n",
        "### 🧠 Prompt Template  \n",
        "> Write SQL to create a column showing days since last login using DATE_DIFF.\n",
        "\n",
        "---\n",
        "\n",
        "### 👩‍🏫 Example Prompt  \n",
        "> Add a column days_since_last_login = DATE_DIFF(CURRENT_DATE(), last_login_date, DAY).\n",
        "\n",
        "---\n",
        "\n",
        "### 🔍 Exploration  \n",
        "Does login recency affect churn rate?\n"
      ],
      "id": "525c91b3"
    },
    {
      "cell_type": "code",
      "source": [],
      "metadata": {
        "id": "_nVs_kAgfCIC"
      },
      "id": "_nVs_kAgfCIC",
      "execution_count": null,
      "outputs": []
    },
    {
      "cell_type": "code",
      "source": [
        "%%bigquery --project directed-bongo-471119-d1\n",
        "SELECT\n",
        "    CASE\n",
        "        WHEN DATE_DIFF(CURRENT_DATE(), t2.last_login_date, DAY) > 100 THEN '>100'\n",
        "        WHEN DATE_DIFF(CURRENT_DATE(), t2.last_login_date, DAY) BETWEEN 20 AND 30 THEN '20-30'\n",
        "        WHEN DATE_DIFF(CURRENT_DATE(), t2.last_login_date, DAY) BETWEEN 30 AND 50 THEN '30-50'\n",
        "        WHEN DATE_DIFF(CURRENT_DATE(), t2.last_login_date, DAY) BETWEEN 50 AND 80 THEN '50-80'\n",
        "        WHEN DATE_DIFF(CURRENT_DATE(), t2.last_login_date, DAY) BETWEEN 80 AND 100 THEN '80-100'\n",
        "        WHEN DATE_DIFF(CURRENT_DATE(), t2.last_login_date, DAY) < 10 THEN '<10'\n",
        "        ELSE 'unknown'\n",
        "    END AS days_since_last_login_bucket,\n",
        "    AVG(t3.churn_probability) AS average_churn_probability\n",
        "FROM\n",
        "    `directed-bongo-471119-d1.netflix.churn_features` AS t1\n",
        "LEFT JOIN\n",
        "    (SELECT user_id, MAX(watch_date) AS last_login_date FROM `directed-bongo-471119-d1.netflix.watch_history` GROUP BY user_id) AS t2\n",
        "ON\n",
        "    t1.user_id = t2.user_id\n",
        "JOIN\n",
        "    (SELECT\n",
        "        user_id,\n",
        "        predicted_churn_next_month_probs[OFFSET(0)].prob AS churn_probability\n",
        "    FROM\n",
        "        ML.PREDICT(MODEL `directed-bongo-471119-d1.netflix.churn_model`,\n",
        "              (SELECT * FROM `directed-bongo-471119-d1.netflix.churn_features`))) AS t3\n",
        "ON\n",
        "    t1.user_id = t3.user_id\n",
        "GROUP BY\n",
        "    days_since_last_login_bucket\n",
        "ORDER BY\n",
        "    average_churn_probability DESC;"
      ],
      "metadata": {
        "id": "r9INCAtbgd2g"
      },
      "id": "r9INCAtbgd2g",
      "execution_count": null,
      "outputs": []
    },
    {
      "cell_type": "markdown",
      "metadata": {
        "id": "56077fb0"
      },
      "source": [
        "\n",
        "## Task 5.5: Assemble Enhanced Feature Table\n",
        "\n",
        "**🎯 Goal:** Create churn_features_enhanced with all engineered columns.  \n",
        "**📌 Requirements:** Include all prior features + engineered columns.\n",
        "\n",
        "---\n",
        "\n",
        "### 🧠 Prompt Template  \n",
        "> Generate SQL to create churn_features_enhanced with new columns: watch_time_bucket, plan_region_combo, flag_binge, etc.\n",
        "\n",
        "---\n",
        "\n",
        "### 👩‍🏫 Example Prompt  \n",
        "> Build a new table churn_features_enhanced with all original features + engineered ones.\n",
        "\n",
        "---\n",
        "\n",
        "### 🔍 Exploration  \n",
        "Are row counts stable? Any NULLs introduced?\n"
      ],
      "id": "56077fb0"
    },
    {
      "cell_type": "code",
      "source": [
        "%%bigquery --project directed-bongo-471119-d1\n",
        "CREATE OR REPLACE TABLE `directed-bongo-471119-d1.netflix.churn_features_enhanced` AS\n",
        "SELECT\n",
        "    t1.*, -- Include all original columns from churn_features\n",
        "    CASE\n",
        "        WHEN t1.total_minutes < 100 THEN 'low'\n",
        "        WHEN t1.total_minutes >= 100 AND t1.total_minutes <= 300 THEN 'medium'\n",
        "        WHEN t1.total_minutes > 300 THEN 'high'\n",
        "        ELSE 'unknown'\n",
        "    END AS watch_time_bucket,\n",
        "    CASE\n",
        "        WHEN t1.total_minutes > 500 THEN 1\n",
        "        ELSE 0\n",
        "    END AS flag_binge,\n",
        "    CONCAT(t1.subscription_plan, '_', t1.country) AS sub_region_combo,\n",
        "    CASE\n",
        "        WHEN t1.age IS NULL THEN 1\n",
        "        ELSE 0\n",
        "    END AS is_missing_age,\n",
        "    DATE_DIFF(CURRENT_DATE(), t2.last_login_date, DAY) AS days_since_last_login\n",
        "FROM\n",
        "    `directed-bongo-471119-d1.netflix.churn_features` AS t1\n",
        "LEFT JOIN\n",
        "    (SELECT user_id, MAX(watch_date) AS last_login_date FROM `directed-bongo-471119-d1.netflix.watch_history` GROUP BY user_id) AS t2\n",
        "ON\n",
        "    t1.user_id = t2.user_id;"
      ],
      "metadata": {
        "id": "Dsu9seBTh30K"
      },
      "id": "Dsu9seBTh30K",
      "execution_count": null,
      "outputs": []
    },
    {
      "cell_type": "code",
      "source": [
        "%%bigquery --project directed-bongo-471119-d1\n",
        "SELECT\n",
        "    (SELECT COUNT(*) FROM `directed-bongo-471119-d1.netflix.churn_features`) AS original_row_count,\n",
        "    (SELECT COUNT(*) FROM `directed-bongo-471119-d1.netflix.churn_features_enhanced`) AS enhanced_row_count;"
      ],
      "metadata": {
        "id": "mpsh4-5flPnB"
      },
      "id": "mpsh4-5flPnB",
      "execution_count": null,
      "outputs": []
    },
    {
      "cell_type": "markdown",
      "metadata": {
        "id": "4145e26e"
      },
      "source": [
        "\n",
        "## Task 6: Retrain Model on Engineered Features\n",
        "\n",
        "**🎯 Goal:** Train a logistic regression model using churn_features_enhanced.  \n",
        "**📌 Requirements:** Use BQML logistic_reg model with new feature columns.\n",
        "\n",
        "---\n",
        "\n",
        "### 🧠 Prompt Template  \n",
        "> Write CREATE MODEL SQL using enhanced features including flags and buckets.\n",
        "\n",
        "---\n",
        "\n",
        "### 👩‍🏫 Example Prompt  \n",
        "> Retrain churn_model_enhanced using watch_time_bucket, flag_binge, plan_region_combo.\n",
        "\n",
        "---\n",
        "\n",
        "### 🔍 Exploration  \n",
        "Does model accuracy improve?\n"
      ],
      "id": "4145e26e"
    },
    {
      "cell_type": "code",
      "source": [
        "%%bigquery --project directed-bongo-471119-d1\n",
        "CREATE OR REPLACE MODEL `directed-bongo-471119-d1.netflix.churn_model_enhanced`\n",
        "OPTIONS(model_type='logistic_reg', input_label_cols=['churn_next_month']) AS\n",
        "SELECT\n",
        "    churn_next_month,\n",
        "    country,\n",
        "    subscription_plan,\n",
        "    age,\n",
        "    avg_rating,\n",
        "    total_minutes,\n",
        "    avg_progress,\n",
        "    num_sessions,\n",
        "    watch_time_bucket,\n",
        "    flag_binge,\n",
        "    sub_region_combo,\n",
        "    is_missing_age,\n",
        "    days_since_last_login\n",
        "FROM\n",
        "    `directed-bongo-471119-d1.netflix.churn_features_enhanced`;\n",
        "\n",
        "SELECT * FROM ML.EVALUATE(MODEL `directed-bongo-471119-d1.netflix.churn_model_enhanced`);"
      ],
      "metadata": {
        "id": "BwWOAZQ2lbUP"
      },
      "id": "BwWOAZQ2lbUP",
      "execution_count": null,
      "outputs": []
    },
    {
      "cell_type": "markdown",
      "metadata": {
        "id": "f3b11e31"
      },
      "source": [
        "\n",
        "## Task 7: Compare Model Performance\n",
        "\n",
        "**🎯 Goal:** Compare base model vs enhanced model using ML.EVALUATE.  \n",
        "**📌 Requirements:** Use same evaluation query for both models.\n",
        "\n",
        "---\n",
        "\n",
        "### 🧠 Prompt Template  \n",
        "> Write a SQL query to evaluate churn_model_enhanced and compare with churn_model.\n",
        "\n",
        "---\n",
        "\n",
        "### 👩‍🏫 Example Prompt  \n",
        "> Compare ML.EVALUATE output from both models side-by-side.\n",
        "\n",
        "---\n",
        "\n",
        "### 🔍 Exploration  \n",
        "Which features made the most difference?\n"
      ],
      "id": "f3b11e31"
    },
    {
      "cell_type": "code",
      "source": [
        "%%bigquery --project directed-bongo-471119-d1\n",
        "SELECT * FROM ML.EVALUATE(MODEL `directed-bongo-471119-d1.netflix.churn_model`);"
      ],
      "metadata": {
        "id": "nvyEQEsmlr69"
      },
      "id": "nvyEQEsmlr69",
      "execution_count": null,
      "outputs": []
    },
    {
      "cell_type": "code",
      "metadata": {
        "id": "6848b239"
      },
      "source": [
        "%%bigquery --project directed-bongo-471119-d1\n",
        "SELECT * FROM ML.EVALUATE(MODEL `directed-bongo-471119-d1.netflix.churn_model_enhanced`);"
      ],
      "id": "6848b239",
      "execution_count": null,
      "outputs": []
    },
    {
      "cell_type": "code",
      "source": [
        "%%bigquery --project directed-bongo-471119-d1\n",
        "SELECT\n",
        "    *\n",
        "FROM\n",
        "    ML.WEIGHTS(MODEL `directed-bongo-471119-d1.netflix.churn_model_enhanced`);"
      ],
      "metadata": {
        "id": "9tE7m0-hmE-d"
      },
      "id": "9tE7m0-hmE-d",
      "execution_count": null,
      "outputs": []
    }
  ],
  "metadata": {
    "colab": {
      "provenance": [],
      "include_colab_link": true
    },
    "language_info": {
      "name": "python"
    },
    "kernelspec": {
      "name": "python3",
      "display_name": "Python 3"
    }
  },
  "nbformat": 4,
  "nbformat_minor": 5
}